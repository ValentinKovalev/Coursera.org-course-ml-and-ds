{
 "cells": [
  {
   "cell_type": "markdown",
   "metadata": {},
   "source": [
    "# Task 1."
   ]
  },
  {
   "cell_type": "code",
   "execution_count": 40,
   "metadata": {},
   "outputs": [],
   "source": [
    "import pandas\n",
    "import numpy\n",
    "import codecs\n",
    "import re\n",
    "import scipy"
   ]
  },
  {
   "cell_type": "code",
   "execution_count": 7,
   "metadata": {},
   "outputs": [],
   "source": [
    "#reading input file\n",
    "sentences_file = open(\"sentences.txt\", \"r\")\n",
    "data = sentences_file.readlines()"
   ]
  },
  {
   "cell_type": "code",
   "execution_count": 18,
   "metadata": {},
   "outputs": [],
   "source": [
    "#tokenization\n",
    "tokenized_sentences = []\n",
    "for sentence in data:\n",
    "    sentence = sentence.lower()\n",
    "    sentence = filter(None, re.split('[^a-z]', sentence))\n",
    "    tokenized_sentences.append(sentence)"
   ]
  },
  {
   "cell_type": "code",
   "execution_count": 30,
   "metadata": {},
   "outputs": [],
   "source": [
    "#counting words\n",
    "count_dict = {}\n",
    "for sentence in tokenized_sentences:\n",
    "    for word in sentence:\n",
    "        if word not in count_dict:\n",
    "            count_dict[word] = 1\n",
    "        else:\n",
    "            count_dict[word] += 1\n"
   ]
  },
  {
   "cell_type": "code",
   "execution_count": 27,
   "metadata": {},
   "outputs": [
    {
     "name": "stdout",
     "output_type": "stream",
     "text": [
      "(22L, 254L)\n"
     ]
    }
   ],
   "source": [
    "array = numpy.ndarray(shape = (len(data), len(count_dict)), dtype = 'float')\n",
    "print(array.shape)"
   ]
  },
  {
   "cell_type": "code",
   "execution_count": 35,
   "metadata": {},
   "outputs": [],
   "source": [
    "for sentence in tokenized_sentences:\n",
    "    for word in sentence:\n",
    "        #print(sentence)\n",
    "        #print(word)\n",
    "        #print(tokenized_sentences.index(sentence), sentence.index(word))\n",
    "        array[tokenized_sentences.index(sentence)][sentence.index(word)] = count_dict[word]"
   ]
  },
  {
   "cell_type": "code",
   "execution_count": 56,
   "metadata": {},
   "outputs": [
    {
     "name": "stdout",
     "output_type": "stream",
     "text": [
      "(0.2087489362611361, 0.37599226450142453)\n",
      "(9, 21)\n"
     ]
    }
   ],
   "source": [
    "from scipy.spatial import distance\n",
    "min_1 = 1.0\n",
    "min_2 = 1.0\n",
    "min_num_1 = 0\n",
    "min_num_2 = 0\n",
    "row_num = 0\n",
    "first_sentence = array[0]\n",
    "for row in array:\n",
    "    if numpy.array_equal(row, first_sentence):\n",
    "        row_num += 1\n",
    "        continue\n",
    "    cos_dist = distance.cosine(first_sentence, row)\n",
    "    if cos_dist < min_1:\n",
    "        min_2 = min_1\n",
    "        min_num_2 = min_num_1\n",
    "        min_1 = cos_dist\n",
    "        min_num_1 = row_num\n",
    "    elif cos_dist < min_2:\n",
    "            min_2 = cos_dist\n",
    "            min_num_2 = row_num\n",
    "    row_num += 1\n",
    "print(min_1, min_2)\n",
    "print(min_num_1, min_num_2)"
   ]
  },
  {
   "cell_type": "markdown",
   "metadata": {},
   "source": [
    "# Task 2."
   ]
  },
  {
   "cell_type": "code",
   "execution_count": 146,
   "metadata": {},
   "outputs": [
    {
     "data": {
      "image/png": "[encoded data removed]",
      "text/plain": [
       "<Figure size 432x288 with 1 Axes>"
      ]
     },
     "metadata": {},
     "output_type": "display_data"
    }
   ],
   "source": [
    "import math\n",
    "def f(x):\n",
    "    return math.sin(x / 5.0) * math.exp(x / 10.0) + 5 * math.exp(- x / 2)\n",
    "\n",
    "x_array = list(numpy.linspace(1., 15., 200))\n",
    "y_array = []\n",
    "for x in x_array:\n",
    "    y_array.append(f(x))\n",
    "plt.plot(x_array, y_array)\n",
    "plt.show()"
   ]
  },
  {
   "cell_type": "code",
   "execution_count": 172,
   "metadata": {},
   "outputs": [
    {
     "name": "stdout",
     "output_type": "stream",
     "text": [
      "[ 2.46864077 -0.50641164  0.10181194 -0.0050803 ]\n"
     ]
    },
    {
     "data": {
      "image/png": "[encoded data removed]",
      "text/plain": [
       "<Figure size 432x288 with 1 Axes>"
      ]
     },
     "metadata": {},
     "output_type": "display_data"
    }
   ],
   "source": [
    "import matplotlib.pyplot as plt\n",
    "\n",
    "def my_func(values, f_values):\n",
    "    amount_of_c = len(f_values)\n",
    "    A = numpy.random.rand(amount_of_c, amount_of_c)\n",
    "    for (x,y), value in numpy.ndenumerate(A):\n",
    "        if y == 0:\n",
    "            A[x,y] = 1.0\n",
    "        else:\n",
    "            A[x,y] = values[x] ** y\n",
    "    b = numpy.array(f_values)\n",
    "    coef_list = numpy.linalg.solve(A, b)\n",
    "    x_array = list(numpy.linspace(1., 15., 200))\n",
    "    y_array = []\n",
    "    for x_c in x_array:\n",
    "        res = 0.0\n",
    "        pow_ = 0\n",
    "        for coef in coef_list:\n",
    "            res += coef * (x_c ** pow_)\n",
    "            pow_ +=1\n",
    "        y_array.append(res)\n",
    "    print(coef_list)\n",
    "    plt.plot(x_array, y_array)\n",
    "    plt.show()\n",
    "\n",
    "values = [1, 4, 10, 15]\n",
    "f_values = [f(1), f(4), f(10), f(15)]\n",
    "my_func(values, f_values)"
   ]
  },
  {
   "cell_type": "code",
   "execution_count": null,
   "metadata": {},
   "outputs": [],
   "source": []
  },
  {
   "cell_type": "code",
   "execution_count": null,
   "metadata": {},
   "outputs": [],
   "source": []
  }
 ],
 "metadata": {
  "kernelspec": {
   "display_name": "py2.7",
   "language": "python",
   "name": "py2.7"
  },
  "language_info": {
   "codemirror_mode": {
    "name": "ipython",
    "version": 2
   },
   "file_extension": ".py",
   "mimetype": "text/x-python",
   "name": "python",
   "nbconvert_exporter": "python",
   "pygments_lexer": "ipython2",
   "version": "2.7.15"
  }
 },
 "nbformat": 4,
 "nbformat_minor": 2
}
