{
 "cells": [
  {
   "cell_type": "code",
   "execution_count": 3,
   "metadata": {},
   "outputs": [],
   "source": [
    "from sklearn.datasets import load_digits"
   ]
  },
  {
   "cell_type": "code",
   "execution_count": 6,
   "metadata": {},
   "outputs": [],
   "source": [
    "X, y = load_digits(return_X_y=True)"
   ]
  },
  {
   "cell_type": "code",
   "execution_count": 7,
   "metadata": {},
   "outputs": [
    {
     "data": {
      "text/plain": [
       "array([[ 0.,  0.,  5., ...,  0.,  0.,  0.],\n",
       "       [ 0.,  0.,  0., ..., 10.,  0.,  0.],\n",
       "       [ 0.,  0.,  0., ..., 16.,  9.,  0.],\n",
       "       ...,\n",
       "       [ 0.,  0.,  1., ...,  6.,  0.,  0.],\n",
       "       [ 0.,  0.,  2., ..., 12.,  0.,  0.],\n",
       "       [ 0.,  0., 10., ..., 12.,  1.,  0.]])"
      ]
     },
     "execution_count": 7,
     "metadata": {},
     "output_type": "execute_result"
    }
   ],
   "source": [
    "X"
   ]
  },
  {
   "cell_type": "code",
   "execution_count": 8,
   "metadata": {},
   "outputs": [
    {
     "data": {
      "text/plain": [
       "array([0, 1, 2, ..., 8, 9, 8])"
      ]
     },
     "execution_count": 8,
     "metadata": {},
     "output_type": "execute_result"
    }
   ],
   "source": [
    "y"
   ]
  },
  {
   "cell_type": "code",
   "execution_count": 9,
   "metadata": {},
   "outputs": [],
   "source": [
    "from sklearn.cross_validation import cross_val_score"
   ]
  },
  {
   "cell_type": "code",
   "execution_count": 10,
   "metadata": {},
   "outputs": [],
   "source": [
    "k = 10"
   ]
  },
  {
   "cell_type": "markdown",
   "metadata": {},
   "source": [
    "### 1."
   ]
  },
  {
   "cell_type": "code",
   "execution_count": 13,
   "metadata": {},
   "outputs": [
    {
     "name": "stdout",
     "output_type": "stream",
     "text": [
      "[0.76245847 0.8230384  0.76510067]\n",
      "0.7835325134102061\n"
     ]
    }
   ],
   "source": [
    "from sklearn.tree import DecisionTreeClassifier\n",
    "\n",
    "dt_clsf = DecisionTreeClassifier()\n",
    "\n",
    "cv = cross_val_score(dt_clsf, X, y=y, n_jobs = -1)\n",
    "print(cv)\n",
    "print(cv.mean())"
   ]
  },
  {
   "cell_type": "markdown",
   "metadata": {},
   "source": [
    "#### Ans: 0.7835325134102061"
   ]
  },
  {
   "cell_type": "markdown",
   "metadata": {},
   "source": [
    "### 2."
   ]
  },
  {
   "cell_type": "code",
   "execution_count": 16,
   "metadata": {},
   "outputs": [
    {
     "name": "stdout",
     "output_type": "stream",
     "text": [
      "[0.88870432 0.93656093 0.8909396 ]\n",
      "0.9054016170479331\n"
     ]
    }
   ],
   "source": [
    "from sklearn.ensemble import BaggingClassifier\n",
    "\n",
    "dt_clsf = DecisionTreeClassifier()\n",
    "bag_clsf = BaggingClassifier(base_estimator = dt_clsf, n_estimators = 100)\n",
    "cv = cross_val_score(bag_clsf, X, y, n_jobs = -1)\n",
    "\n",
    "print(cv)\n",
    "print(cv.mean())"
   ]
  },
  {
   "cell_type": "markdown",
   "metadata": {},
   "source": [
    "#### Ans: 0.9054016170479331"
   ]
  },
  {
   "cell_type": "markdown",
   "metadata": {},
   "source": [
    "### 3."
   ]
  },
  {
   "cell_type": "code",
   "execution_count": 23,
   "metadata": {},
   "outputs": [
    {
     "data": {
      "text/plain": [
       "8.0"
      ]
     },
     "execution_count": 23,
     "metadata": {},
     "output_type": "execute_result"
    }
   ],
   "source": [
    "math.sqrt(X.shape[1])"
   ]
  },
  {
   "cell_type": "code",
   "execution_count": 24,
   "metadata": {},
   "outputs": [
    {
     "name": "stdout",
     "output_type": "stream",
     "text": [
      "[0.91694352 0.91318865 0.92449664]\n",
      "0.9182096045454101\n"
     ]
    }
   ],
   "source": [
    "import math\n",
    "\n",
    "dt_clsf = DecisionTreeClassifier()\n",
    "bag_clsf = BaggingClassifier(base_estimator = dt_clsf, max_features = int(math.sqrt(X.shape[1])), n_estimators = 100)\n",
    "cv = cross_val_score(bag_clsf, X, y, n_jobs = -1)\n",
    "\n",
    "print(cv)\n",
    "print(cv.mean())"
   ]
  },
  {
   "cell_type": "markdown",
   "metadata": {},
   "source": [
    "#### Ans: 0.9182096045454101"
   ]
  },
  {
   "cell_type": "markdown",
   "metadata": {},
   "source": [
    "### 4."
   ]
  },
  {
   "cell_type": "code",
   "execution_count": 25,
   "metadata": {},
   "outputs": [
    {
     "name": "stdout",
     "output_type": "stream",
     "text": [
      "[0.93023256 0.94991653 0.91778523]\n",
      "0.9326447735282578\n"
     ]
    }
   ],
   "source": [
    "dt_clsf = DecisionTreeClassifier(max_features = int(math.sqrt(X.shape[1])),)\n",
    "bag_clsf = BaggingClassifier(base_estimator = dt_clsf, n_estimators = 100)\n",
    "cv = cross_val_score(bag_clsf, X, y, n_jobs = -1)\n",
    "\n",
    "print(cv)\n",
    "print(cv.mean())"
   ]
  },
  {
   "cell_type": "markdown",
   "metadata": {},
   "source": [
    "#### Ans: 0.9326447735282578"
   ]
  },
  {
   "cell_type": "markdown",
   "metadata": {},
   "source": [
    "### 5."
   ]
  },
  {
   "cell_type": "code",
   "execution_count": 26,
   "metadata": {},
   "outputs": [
    {
     "name": "stdout",
     "output_type": "stream",
     "text": [
      "[0.88704319 0.90317195 0.89597315]\n",
      "0.8953960989955375\n"
     ]
    }
   ],
   "source": [
    "from sklearn.ensemble import RandomForestClassifier\n",
    "\n",
    "rfc = RandomForestClassifier()\n",
    "\n",
    "cv = cross_val_score(rfc, X, y, n_jobs = -1)\n",
    "\n",
    "print(cv)\n",
    "print(cv.mean())"
   ]
  },
  {
   "cell_type": "code",
   "execution_count": 28,
   "metadata": {},
   "outputs": [
    {
     "name": "stdout",
     "output_type": "stream",
     "text": [
      "0.6922372007383758\n",
      "0.7824504989245246\n",
      "0.8492155734645754\n",
      "0.8758966168216745\n",
      "0.9009609571860454\n",
      "0.9182289888262044\n",
      "0.9365736561165678\n",
      "0.9337717450281104\n",
      "0.9371022957601886\n"
     ]
    }
   ],
   "source": [
    "for i in [1, 3, 5, 7, 10, 20, 50, 100, 200]:\n",
    "    rfc = RandomForestClassifier(n_estimators=i)\n",
    "    cv = cross_val_score(rfc, X, y, n_jobs = -1)\n",
    "    print(cv.mean())"
   ]
  },
  {
   "cell_type": "code",
   "execution_count": 30,
   "metadata": {},
   "outputs": [
    {
     "name": "stdout",
     "output_type": "stream",
     "text": [
      "0.8931478140096218\n",
      "0.8975495378029335\n",
      "0.8992829931657274\n",
      "0.8808908469504416\n",
      "0.8692211469803955\n"
     ]
    }
   ],
   "source": [
    "for i in [5, 10, 40, 50, 60]:\n",
    "    rfc = RandomForestClassifier(max_features=i)\n",
    "    cv = cross_val_score(rfc, X, y, n_jobs = -1)\n",
    "    print(cv.mean())"
   ]
  },
  {
   "cell_type": "code",
   "execution_count": 33,
   "metadata": {},
   "outputs": [
    {
     "name": "stdout",
     "output_type": "stream",
     "text": [
      "0.8525209423129138\n",
      "0.8742438626029273\n",
      "0.9070824100751458\n",
      "0.9137463405461966\n",
      "0.9070825217464705\n",
      "0.8948311568654171\n"
     ]
    }
   ],
   "source": [
    "for i in [5, 6, 10, 12, 15, 20]:\n",
    "    rfc = RandomForestClassifier(max_depth=i)\n",
    "    cv = cross_val_score(rfc, X, y, n_jobs = -1)\n",
    "    print(cv.mean())"
   ]
  },
  {
   "cell_type": "code",
   "execution_count": 32,
   "metadata": {},
   "outputs": [
    {
     "name": "stdout",
     "output_type": "stream",
     "text": [
      "0.9009581281791507\n"
     ]
    }
   ],
   "source": [
    "rfc = RandomForestClassifier()\n",
    "cv = cross_val_score(rfc, X, y, n_jobs = -1)\n",
    "print(cv.mean())"
   ]
  },
  {
   "cell_type": "markdown",
   "metadata": {},
   "source": [
    "#### Ans: 1, 2, 3, 4, 7"
   ]
  },
  {
   "cell_type": "code",
   "execution_count": null,
   "metadata": {},
   "outputs": [],
   "source": []
  }
 ],
 "metadata": {
  "kernelspec": {
   "display_name": "Python 3",
   "language": "python",
   "name": "python3"
  },
  "language_info": {
   "codemirror_mode": {
    "name": "ipython",
    "version": 3
   },
   "file_extension": ".py",
   "mimetype": "text/x-python",
   "name": "python",
   "nbconvert_exporter": "python",
   "pygments_lexer": "ipython3",
   "version": "3.6.5"
  }
 },
 "nbformat": 4,
 "nbformat_minor": 2
}
